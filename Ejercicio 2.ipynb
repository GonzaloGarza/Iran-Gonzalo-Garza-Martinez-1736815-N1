{
  "nbformat": 4,
  "nbformat_minor": 0,
  "metadata": {
    "colab": {
      "name": "Untitled0.ipynb",
      "provenance": [],
      "authorship_tag": "ABX9TyOFVudeu+F//ggcmbNrJyTr",
      "include_colab_link": true
    },
    "kernelspec": {
      "name": "python3",
      "display_name": "Python 3"
    },
    "language_info": {
      "name": "python"
    }
  },
  "cells": [
    {
      "cell_type": "markdown",
      "metadata": {
        "id": "view-in-github",
        "colab_type": "text"
      },
      "source": [
        "<a href=\"https://colab.research.google.com/github/GonzaloGarza/Iran-Gonzalo-Garza-Martinez-1736815-N1/blob/main/Ejercicio%202.ipynb\" target=\"_parent\"><img src=\"https://colab.research.google.com/assets/colab-badge.svg\" alt=\"Open In Colab\"/></a>"
      ]
    },
    {
      "cell_type": "markdown",
      "metadata": {
        "id": "1bGjDBLgWM8D"
      },
      "source": [
        "# Ejcericio 2\n",
        "Crear un programa que le pida al usuario capturar dos números enteros y dos números flotantes. Después, realizará la suma, resta, multiplicación y división, de ambos pares de números. Como resultado se deberán de obtener 8 valores. Imprimir todos estos reultados.\n"
      ]
    },
    {
      "cell_type": "code",
      "metadata": {
        "colab": {
          "base_uri": "https://localhost:8080/"
        },
        "id": "cpJI6VX2WXha",
        "outputId": "9e1c1b1e-ade5-4159-df98-15e60fabd2b4"
      },
      "source": [
        "a = \"Ingrese  dos valores de numeros enteros (ejemplo: 1,2,3,4....\"\n",
        "print(a)\n",
        "n1 = int(input(\"Ingresar un numero entero: \"))\n",
        "n2 = int(input(\"Ingresar un numero entero: \"))\n",
        "\n",
        "b = \"Ingrese  dos valores de numeros flotante (ejemplo: 1.4, 1.8.....)\"\n",
        "print(b)\n",
        "n3 = float(input(\"Ingresar un numero flotante: \"))\n",
        "n4 = float(input(\"Ingresar un numero flotante: \"))\n",
        "\n",
        "c = \"Resultados de numeros enteros\"\n",
        "print(c)\n",
        "sum = (n1 + n2)\n",
        "print(\"la suma es: \",sum)\n",
        "res = n1 - n2\n",
        "print(\"la resta es: \",res)\n",
        "mult = n1 * n2\n",
        "print(\"la multiplicacion es: \",mult)\n",
        "div = n1 / n2\n",
        "print(\"la divicion es: \",div)\n",
        "\n",
        "d = \"Resultados de numeros flotantes\"\n",
        "print(d)\n",
        "sum = (n3 + n4)\n",
        "print(\"la suma es: \",sum)\n",
        "res = n3 - n4\n",
        "print(\"la resta es: \",res)\n",
        "mult = n3 * n4\n",
        "print(\"la multiplicacion es: \",mult)\n",
        "div = n3 / n4\n",
        "print(\"la divicion es: \",div)\n"
      ],
      "execution_count": 9,
      "outputs": [
        {
          "output_type": "stream",
          "name": "stdout",
          "text": [
            "Ingrese  dos valores de numeros enteros (ejemplo: 1,2,3,4....\n",
            "Ingresar un numero entero: 3\n",
            "Ingresar un numero entero: 4\n",
            "Ingrese  dos valores de numeros flotante (ejemplo: 1.4, 1.8.....)\n",
            "Ingresar un numero flotante: 2.4\n",
            "Ingresar un numero flotante: 3.4\n",
            "Resultados de numeros enteros\n",
            "la suma es:  7\n",
            "la resta es:  -1\n",
            "la multiplicacion es:  12\n",
            "la divicion es:  0.75\n",
            "Resultados de numeros flotantes\n",
            "la suma es:  5.8\n",
            "la resta es:  -1.0\n",
            "la multiplicacion es:  8.16\n",
            "la divicion es:  0.7058823529411765\n"
          ]
        }
      ]
    }
  ]
}